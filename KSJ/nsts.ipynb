{
 "cells": [
  {
   "cell_type": "code",
   "execution_count": 8,
   "id": "d15e83ec-6b61-494e-bc7b-e95bbeb2bb8c",
   "metadata": {},
   "outputs": [],
   "source": [
    "# 데이터 처리\n",
    "import numpy as np\n",
    "import pandas as pd\n",
    "import glob\n",
    "\n",
    "# 시각화\n",
    "import matplotlib.pyplot as plt\n",
    "import seaborn as sns\n",
    "\n",
    "# 시계열 처리\n",
    "from sklearn.preprocessing import MinMaxScaler\n",
    "from sklearn.model_selection import train_test_split\n",
    "\n",
    "# 딥러닝 모델\n",
    "import tensorflow as tf\n",
    "from tensorflow.keras.models import Sequential\n",
    "from tensorflow.keras.layers import Dense, LSTM, Dropout\n",
    "\n",
    "# CNN도 쓸 경우 대비\n",
    "from tensorflow.keras.layers import Conv1D, MaxPooling1D, Flatten\n",
    "\n",
    "# 경고 제거\n",
    "import warnings\n",
    "warnings.filterwarnings('ignore')"
   ]
  },
  {
   "cell_type": "code",
   "execution_count": 10,
   "id": "99ca0a38-7cfe-4238-9d45-41b31ac1b019",
   "metadata": {},
   "outputs": [],
   "source": [
    "# 모든 월별 파일 불러오기 N_01_extent_v3.0.csv ~ N_12_extent_v3.0.csv\n",
    "file_paths = sorted(glob.glob(\"data/N_*_extent_v3.0.csv\")) \n",
    "\n",
    "# 모든 데이터를 하나로 합치기\n",
    "df_list = []\n",
    "\n",
    "for path in file_paths:\n",
    "    temp = pd.read_csv(path)\n",
    "    df_list.append(temp)\n",
    "\n",
    "df_all = pd.concat(df_list, ignore_index=True)"
   ]
  },
  {
   "cell_type": "code",
   "execution_count": 11,
   "id": "e538f393-8441-440d-b142-8d8d9bb99c7b",
   "metadata": {},
   "outputs": [
    {
     "name": "stdout",
     "output_type": "stream",
     "text": [
      "Index(['year', ' mo', '    data-type', ' region', ' extent', '   area'], dtype='object')\n"
     ]
    }
   ],
   "source": [
    "print(df_all.columns)"
   ]
  },
  {
   "cell_type": "code",
   "execution_count": 12,
   "id": "99613ef4-94dc-4925-906d-632fe89bf4ec",
   "metadata": {},
   "outputs": [],
   "source": [
    "df_all.columns = df_all.columns.str.strip()"
   ]
  },
  {
   "cell_type": "code",
   "execution_count": 14,
   "id": "733a5c9a-8979-4f14-a80c-b12274d315b6",
   "metadata": {},
   "outputs": [],
   "source": [
    "# 'mo'를 'month'로\n",
    "df_all = df_all.rename(columns={\"mo\": \"month\"})\n",
    "\n",
    "# 날짜 컬럼 만들기\n",
    "df_all['date'] = pd.to_datetime(df_all[['year', 'month']].assign(day=1))"
   ]
  },
  {
   "cell_type": "code",
   "execution_count": 18,
   "id": "7b3606c5-e3bd-4b3c-82d7-5eb721adbc4f",
   "metadata": {},
   "outputs": [],
   "source": [
    "df_all.to_csv(\"data/arctic_ym.csv\", index=False)"
   ]
  },
  {
   "cell_type": "code",
   "execution_count": 16,
   "id": "94718389-ae4f-4e70-9117-41be15bfd176",
   "metadata": {},
   "outputs": [
    {
     "name": "stdout",
     "output_type": "stream",
     "text": [
      "결측치 수:\n",
      " date      0\n",
      "extent    0\n",
      "area      0\n",
      "dtype: int64\n"
     ]
    },
    {
     "data": {
      "text/html": [
       "<div>\n",
       "<style scoped>\n",
       "    .dataframe tbody tr th:only-of-type {\n",
       "        vertical-align: middle;\n",
       "    }\n",
       "\n",
       "    .dataframe tbody tr th {\n",
       "        vertical-align: top;\n",
       "    }\n",
       "\n",
       "    .dataframe thead th {\n",
       "        text-align: right;\n",
       "    }\n",
       "</style>\n",
       "<table border=\"1\" class=\"dataframe\">\n",
       "  <thead>\n",
       "    <tr style=\"text-align: right;\">\n",
       "      <th></th>\n",
       "      <th>date</th>\n",
       "      <th>extent</th>\n",
       "      <th>area</th>\n",
       "    </tr>\n",
       "  </thead>\n",
       "  <tbody>\n",
       "    <tr>\n",
       "      <th>0</th>\n",
       "      <td>1978-11-01</td>\n",
       "      <td>11.65</td>\n",
       "      <td>9.04</td>\n",
       "    </tr>\n",
       "    <tr>\n",
       "      <th>1</th>\n",
       "      <td>1978-12-01</td>\n",
       "      <td>13.67</td>\n",
       "      <td>10.90</td>\n",
       "    </tr>\n",
       "    <tr>\n",
       "      <th>2</th>\n",
       "      <td>1979-01-01</td>\n",
       "      <td>15.41</td>\n",
       "      <td>12.41</td>\n",
       "    </tr>\n",
       "    <tr>\n",
       "      <th>3</th>\n",
       "      <td>1979-02-01</td>\n",
       "      <td>16.18</td>\n",
       "      <td>13.18</td>\n",
       "    </tr>\n",
       "    <tr>\n",
       "      <th>4</th>\n",
       "      <td>1979-03-01</td>\n",
       "      <td>16.34</td>\n",
       "      <td>13.21</td>\n",
       "    </tr>\n",
       "  </tbody>\n",
       "</table>\n",
       "</div>"
      ],
      "text/plain": [
       "        date  extent   area\n",
       "0 1978-11-01   11.65   9.04\n",
       "1 1978-12-01   13.67  10.90\n",
       "2 1979-01-01   15.41  12.41\n",
       "3 1979-02-01   16.18  13.18\n",
       "4 1979-03-01   16.34  13.21"
      ]
     },
     "execution_count": 16,
     "metadata": {},
     "output_type": "execute_result"
    }
   ],
   "source": [
    "# 필요한 컬럼만 선택\n",
    "df_all = df_all[['date', 'extent', 'area']]\n",
    "\n",
    "# 날짜 기준 정렬\n",
    "df_all = df_all.sort_values('date').reset_index(drop=True)\n",
    "\n",
    "# 결측치 확인\n",
    "print(\"결측치 수:\\n\", df_all.isnull().sum())\n",
    "\n",
    "# 상위 5개 출력\n",
    "df_all.head()"
   ]
  },
  {
   "cell_type": "markdown",
   "id": "fe5c42d9-3128-458d-9f51-b3b29be22f02",
   "metadata": {},
   "source": [
    "    • extent: 전체 해빙이 퍼져있는 범위 \n",
    "    • area: 실제 얼음이 차 있는 면적"
   ]
  },
  {
   "cell_type": "code",
   "execution_count": 19,
   "id": "67ca8dcd-bb5f-4ddf-9e95-730900bbf8d7",
   "metadata": {},
   "outputs": [],
   "source": [
    "ao_df = pd.read_csv(\"data/ao.long.csv\")"
   ]
  },
  {
   "cell_type": "code",
   "execution_count": 20,
   "id": "c7b4c219-96b0-49e4-9300-2b299e88e227",
   "metadata": {},
   "outputs": [
    {
     "data": {
      "text/html": [
       "<div>\n",
       "<style scoped>\n",
       "    .dataframe tbody tr th:only-of-type {\n",
       "        vertical-align: middle;\n",
       "    }\n",
       "\n",
       "    .dataframe tbody tr th {\n",
       "        vertical-align: top;\n",
       "    }\n",
       "\n",
       "    .dataframe thead th {\n",
       "        text-align: right;\n",
       "    }\n",
       "</style>\n",
       "<table border=\"1\" class=\"dataframe\">\n",
       "  <thead>\n",
       "    <tr style=\"text-align: right;\">\n",
       "      <th></th>\n",
       "      <th>date</th>\n",
       "      <th>ao</th>\n",
       "    </tr>\n",
       "  </thead>\n",
       "  <tbody>\n",
       "    <tr>\n",
       "      <th>0</th>\n",
       "      <td>1979-01-01</td>\n",
       "      <td>-2.233</td>\n",
       "    </tr>\n",
       "    <tr>\n",
       "      <th>1</th>\n",
       "      <td>1979-02-01</td>\n",
       "      <td>-0.697</td>\n",
       "    </tr>\n",
       "    <tr>\n",
       "      <th>2</th>\n",
       "      <td>1979-03-01</td>\n",
       "      <td>-0.814</td>\n",
       "    </tr>\n",
       "    <tr>\n",
       "      <th>3</th>\n",
       "      <td>1979-04-01</td>\n",
       "      <td>-1.157</td>\n",
       "    </tr>\n",
       "    <tr>\n",
       "      <th>4</th>\n",
       "      <td>1979-05-01</td>\n",
       "      <td>-0.250</td>\n",
       "    </tr>\n",
       "  </tbody>\n",
       "</table>\n",
       "</div>"
      ],
      "text/plain": [
       "        date     ao\n",
       "0 1979-01-01 -2.233\n",
       "1 1979-02-01 -0.697\n",
       "2 1979-03-01 -0.814\n",
       "3 1979-04-01 -1.157\n",
       "4 1979-05-01 -0.250"
      ]
     },
     "execution_count": 20,
     "metadata": {},
     "output_type": "execute_result"
    }
   ],
   "source": [
    "# 컬럼 이름 재설정 (불필요한 설명 컬럼 제거)\n",
    "ao_df = ao_df.iloc[:, :2]\n",
    "ao_df.columns = ['date', 'ao']\n",
    "\n",
    "# 날짜 타입으로 변환\n",
    "ao_df['date'] = pd.to_datetime(ao_df['date'])\n",
    "\n",
    "# 연도 범위 필터링: 1979 ~ 2024\n",
    "ao_df = ao_df[(ao_df['date'].dt.year >= 1979) & (ao_df['date'].dt.year <= 2024)]\n",
    "\n",
    "# 인덱스 리셋\n",
    "ao_df = ao_df.reset_index(drop=True)\n",
    "\n",
    "# 확인\n",
    "ao_df.head()"
   ]
  },
  {
   "cell_type": "code",
   "execution_count": null,
   "id": "df1343cc-1e17-48a7-96d3-d8ea6b483799",
   "metadata": {},
   "outputs": [],
   "source": []
  }
 ],
 "metadata": {
  "kernelspec": {
   "display_name": "Python 3 (ipykernel)",
   "language": "python",
   "name": "python3"
  },
  "language_info": {
   "codemirror_mode": {
    "name": "ipython",
    "version": 3
   },
   "file_extension": ".py",
   "mimetype": "text/x-python",
   "name": "python",
   "nbconvert_exporter": "python",
   "pygments_lexer": "ipython3",
   "version": "3.12.7"
  }
 },
 "nbformat": 4,
 "nbformat_minor": 5
}
